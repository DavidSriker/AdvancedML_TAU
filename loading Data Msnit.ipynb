{
 "cells": [
  {
   "cell_type": "markdown",
   "metadata": {},
   "source": [
    "<h1><center>creating and Orginized Mnist dataset</center></h1>\n",
    "\n",
    " 1. First download Mnist dataset from [http://yann.lecun.com/exdb/mnist/](http://yann.lecun.com/exdb/mnist/)\n",
    " 2. Read the dataset to pairs of (x,y), images and labels respectively.\n",
    " 3. Sort the data and store in dictionary. Each label is a key and its values are matrix of images vector and culomn of the label.\n",
    " \n",
    " \n",
    " <h3><center>---------------Importing modules----------------</center></h3>\n"
   ]
  },
  {
   "cell_type": "code",
   "execution_count": 1,
   "metadata": {},
   "outputs": [],
   "source": [
    "import numpy as np\n",
    "import matplotlib.pyplot as plt\n",
    "from mlxtend.data import loadlocal_mnist"
   ]
  },
  {
   "cell_type": "markdown",
   "metadata": {},
   "source": [
    "<h3><center>---------------Defining function----------------</center></h3>"
   ]
  },
  {
   "cell_type": "code",
   "execution_count": 6,
   "metadata": {},
   "outputs": [],
   "source": [
    "def OrginizeMnistDS (link1, link2):\n",
    "    \"\"\"\n",
    "    The function OrginizeMnistDS is orginize the Mnist dataset from \n",
    "    the digit 0 to the digit 9 by using the 'argsort' method from numpy.\n",
    "    \n",
    "    The inputs:\n",
    "              link1 - String type of the path where the data store in local place.\n",
    "              link2 - String type of the path where the data store in local place.\n",
    "    \n",
    "    The outputs:\n",
    "              y_sort - nd.array of the sorted labels (1-d).\n",
    "              x-sort - nd.array of the sorted images (2-d).\n",
    "    \"\"\"\n",
    "    x, y = loadlocal_mnist(images_path=link1, labels_path=link2)\n",
    "    index = np.argsort(y)\n",
    "    y_sort = y[index]\n",
    "    x_sort = x[index]\n",
    "    return y_sort, x_sort\n",
    "\n",
    "def IndLabels(y, x):\n",
    "    \"\"\"\n",
    "    The function IndLabels is finding the indexes where new label is set in the nd.array input.\n",
    "    \n",
    "    The inputs:\n",
    "              y - nd.array of the soerted labels (1-d).\n",
    "              x - nd.array of the soerted labels (2-d).\n",
    "    \n",
    "    The output:\n",
    "              temp - list of indexes were change has been apperence.\n",
    "    \"\"\"\n",
    "    temp = [0]\n",
    "    for i in range(len(y)):\n",
    "        if y[i] == 9:\n",
    "            break\n",
    "        if y[i] != y[i+1]:\n",
    "            temp.extend([i+1])\n",
    "    return temp\n",
    "\n",
    "def DictMnist(y_sort, x_sort):\n",
    "    \"\"\"\n",
    "    The function DictMnist is orginize the Mnist dataset into a dictionary. \n",
    "    The dictionary keys are the names of the labels (0, 1, 2..., 9). The values are the images.\n",
    "    \n",
    "    The inputs:\n",
    "              x-sort - nd.array of the sorted images (2-d).\n",
    "              temp - list which contains the indexes for new label appearence.\n",
    "    \n",
    "    The outputs:\n",
    "              y_sort - nd.array of the sorted labels (1-d).\n",
    "              x-sort - nd.array of the sorted images (2-d).\n",
    "    \"\"\"\n",
    "    temp = IndLabels(y_sort, x_sort)\n",
    "    dictMnist = {}\n",
    "    for i in range(len(temp)):\n",
    "        if i == len(temp)-1:\n",
    "            instart = temp[i]\n",
    "            dictMnist[i] = x_sort[instart:]\n",
    "            break\n",
    "        instart = temp[i]\n",
    "        instop = temp[i+1]\n",
    "        dictMnist[i] = x_sort[instart:instop]           \n",
    "    return dictMnist"
   ]
  },
  {
   "cell_type": "markdown",
   "metadata": {},
   "source": [
    "<h3><center>---------------Mnist dataset: Reading, Sorting and Orginizing in a Dictionary ----------------</center></h3>"
   ]
  },
  {
   "cell_type": "code",
   "execution_count": 7,
   "metadata": {},
   "outputs": [],
   "source": [
    "# ---------------------------------reading mnist dataset--------------------------\n",
    "# Enter the link for mnist local-dataset\n",
    "link1        = 'C:\\\\matan antebi\\\\תואר שני\\\\שנה ד\\\\סמסטר א\\\\נושאים מתקדמים בלמידה\\\\train-images.idx3-ubyte'\n",
    "link2        = 'C:\\\\matan antebi\\\\תואר שני\\\\שנה ד\\\\סמסטר א\\\\נושאים מתקדמים בלמידה\\\\train-labels.idx1-ubyte'\n",
    "[y_sort, x_sort] = OrginizeMnistDS(link1, link2)\n",
    "# ----------------------sorting and orginized the data in dictionary--------------\n",
    "dMnist = DictMnist(y_sort, x_sort)"
   ]
  },
  {
   "cell_type": "markdown",
   "metadata": {},
   "source": [
    "<h3><center>---------------Representing digit from each keys from the Dictionary ----------------</center></h3>"
   ]
  },
  {
   "cell_type": "code",
   "execution_count": 32,
   "metadata": {},
   "outputs": [
    {
     "data": {
      "image/png": "[encoded data removed]",
      "text/plain": [
       "<Figure size 432x288 with 10 Axes>"
      ]
     },
     "metadata": {},
     "output_type": "display_data"
    }
   ],
   "source": [
    "len(dMnist[9][0])\n",
    "for i in range(len(dMnist.keys())):\n",
    "    #plt.subplot(int(str(52)+str(i+1)))\n",
    "    plt.subplot(5,2,(i+1))\n",
    "    image = dMnist[i][0]\n",
    "    image = image.reshape(28,28)\n",
    "    plt.imshow(image)\n"
   ]
  }
 ],
 "metadata": {
  "kernelspec": {
   "display_name": "Python 3",
   "language": "python",
   "name": "python3"
  },
  "language_info": {
   "codemirror_mode": {
    "name": "ipython",
    "version": 3
   },
   "file_extension": ".py",
   "mimetype": "text/x-python",
   "name": "python",
   "nbconvert_exporter": "python",
   "pygments_lexer": "ipython3",
   "version": "3.6.5"
  }
 },
 "nbformat": 4,
 "nbformat_minor": 2
}
