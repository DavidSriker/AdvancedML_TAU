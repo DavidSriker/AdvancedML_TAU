{
 "cells": [
  {
   "cell_type": "markdown",
   "metadata": {},
   "source": [
    "<h1><center>Creating and Orginizing Synthesize dataset from two Normal Distributed</center></h1>\n",
    "\n",
    " 1. Defining by using <code>multivariate_normal</code> method, two Normal Distribution.\n",
    " 2. Each distribution was labeled by +1 or -1.\n",
    " 3. We represent by scatter plot the distribution of both Normal distributions.\n",
    " \n",
    " <h3><center>---------------Importing modules----------------</center></h3>"
   ]
  },
  {
   "cell_type": "code",
   "execution_count": 1,
   "metadata": {},
   "outputs": [],
   "source": [
    "import numpy as np\n",
    "import matplotlib.pyplot as plt"
   ]
  },
  {
   "cell_type": "markdown",
   "metadata": {},
   "source": [
    "<h3><center>--------------Defining function-----------------</center></h3>"
   ]
  },
  {
   "cell_type": "code",
   "execution_count": 25,
   "metadata": {},
   "outputs": [],
   "source": [
    "def NormalDist():\n",
    "    \"\"\"\n",
    "        The function NormalDist creates two Normal distributions. \n",
    "        In the function the user defines the mean and covariance of the distributions.\n",
    "        \n",
    "        The inputs:\n",
    "                   None\n",
    "        The outputs:\n",
    "                   X - nd.array of the Normal distributions (m,2,2).\n",
    "    \"\"\"\n",
    "    m = int(input('Select numbers of variables: '))\n",
    "    mean1 = float(input('select a mean value: '))\n",
    "    mean2 = float(input('select a mean value: '))\n",
    "    mean = (mean1, mean2)\n",
    "    cov1 = float(input('select a variance value for x1:'))\n",
    "    cov2 = float(input('select a variance value for x2:'))\n",
    "    cov = [[cov1, 0], [0, cov2]]\n",
    "    X = np.random.multivariate_normal(mean, cov, (m,2))\n",
    "    return X\n",
    "\n",
    "def LabeledDist(x1,x2):\n",
    "    \"\"\"\n",
    "        The function LabelDist creates labels for the two distribution (-1,1)\n",
    "        The inputs:\n",
    "                   x1,x2 - ndarray of the Normal distribution (m,2).\n",
    "        The outputs:\n",
    "                   z1 - labeled (-1), ndarray (m,2).\n",
    "                   z2 - labeled (+1), ndarray (m,2).\n",
    "    \"\"\"\n",
    "    z1 = -1*np.ones(x1.shape)\n",
    "    z2 = np.ones(x2.shape)\n",
    "    return z1, z2"
   ]
  },
  {
   "cell_type": "markdown",
   "metadata": {},
   "source": [
    "<h3><center>---------------Synthesize dataset----------------</center></h3>"
   ]
  },
  {
   "cell_type": "code",
   "execution_count": 30,
   "metadata": {},
   "outputs": [
    {
     "name": "stdout",
     "output_type": "stream",
     "text": [
      "Select numbers of variables: 1000\n",
      "select a mean value: 0.3\n",
      "select a mean value: 1.2\n",
      "select a variance value for x1:1.2\n",
      "select a variance value for x2:2.4\n"
     ]
    }
   ],
   "source": [
    "# -----------creating Multi-Normal distribution\n",
    "np.random.seed(1025)\n",
    "x = NormalDist()\n",
    "x1 = x[:,:,0]\n",
    "x2 = x[:,:,1]\n",
    "[z1, z2] = LabeledDist(x1, x2)\n"
   ]
  },
  {
   "cell_type": "markdown",
   "metadata": {},
   "source": [
    "<h3><center>---------------Representing scatter plot of the two Normal distributions----------------</center></h3>"
   ]
  },
  {
   "cell_type": "code",
   "execution_count": 37,
   "metadata": {},
   "outputs": [
    {
     "data": {
      "text/plain": [
       "Text(0.5, 1.0, 'Scatter of two Normal distributions')"
      ]
     },
     "execution_count": 37,
     "metadata": {},
     "output_type": "execute_result"
    },
    {
     "data": {
      "image/png": "[encoded data removed]",
      "text/plain": [
       "<Figure size 432x288 with 1 Axes>"
      ]
     },
     "metadata": {},
     "output_type": "display_data"
    }
   ],
   "source": [
    "plt.scatter(x1[:,0], x1[:,1], color= 'b')\n",
    "plt.scatter(x2[:,0], x2[:,1], color= 'r')\n",
    "plt.grid(True)\n",
    "plt.title('Scatter of two Normal distributions')\n"
   ]
  }
 ],
 "metadata": {
  "kernelspec": {
   "display_name": "Python 3",
   "language": "python",
   "name": "python3"
  },
  "language_info": {
   "codemirror_mode": {
    "name": "ipython",
    "version": 3
   },
   "file_extension": ".py",
   "mimetype": "text/x-python",
   "name": "python",
   "nbconvert_exporter": "python",
   "pygments_lexer": "ipython3",
   "version": "3.6.5"
  }
 },
 "nbformat": 4,
 "nbformat_minor": 2
}
